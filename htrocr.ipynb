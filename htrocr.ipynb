{
  "nbformat": 4,
  "nbformat_minor": 0,
  "metadata": {
    "colab": {
      "name": "htrocr.ipynb",
      "provenance": [],
      "authorship_tag": "ABX9TyM8sMnWLKe1IhcYMF64ugEu",
      "include_colab_link": true
    },
    "kernelspec": {
      "name": "python3",
      "display_name": "Python 3"
    }
  },
  "cells": [
    {
      "cell_type": "markdown",
      "metadata": {
        "id": "view-in-github",
        "colab_type": "text"
      },
      "source": [
        "<a href=\"https://colab.research.google.com/github/sreejanarahari/HTR_OCR/blob/main/htrocr.ipynb\" target=\"_parent\"><img src=\"https://colab.research.google.com/assets/colab-badge.svg\" alt=\"Open In Colab\"/></a>"
      ]
    },
    {
      "cell_type": "code",
      "metadata": {
        "colab": {
          "base_uri": "https://localhost:8080/"
        },
        "id": "996SPSPPuuuW",
        "outputId": "37073473-3beb-492c-af06-e0025c880343"
      },
      "source": [
        "import numpy as np\r\n",
        "import pandas as pd\r\n",
        "from sklearn.model_selection import cross_validate\r\n",
        "#from sklearn.model_selection import train_test_split\r\n",
        "#from sklearn import cross_validation\r\n",
        "from sklearn import svm\r\n",
        "from sklearn.neighbors import KNeighborsClassifier\r\n",
        "from sklearn.metrics import accuracy_score\r\n",
        "from sklearn.metrics import recall_score\r\n",
        "from sklearn.decomposition import PCA\r\n",
        "\r\n",
        "from sklearn import model_selection\r\n",
        "from sklearn.model_selection import StratifiedShuffleSplit\r\n",
        "\r\n",
        "#X_train, X_test, y_train, y_test=StratifiedShuffleSplit(X,y,test_size=0.2)\r\n",
        "\r\n",
        "\r\n",
        "from time import time\r\n",
        "\r\n",
        "def all_same(items):\r\n",
        "  return len(set(items)) == 1\r\n",
        "\r\n",
        "# Load training data from csv file\r\n",
        "data = pd.read_csv(\"train.csv\")\r\n",
        "\r\n",
        "# Extract feature columns\r\n",
        "feature_cols = list(data.columns[1:])\r\n",
        "\r\n",
        "# Extract target column 'label'\r\n",
        "target_col = data.columns[0]\r\n",
        "\r\n",
        "# Separate the data into feature data and target data (X and y, respectively)\r\n",
        "X = data[feature_cols]\r\n",
        "y = data[target_col]\r\n",
        "\r\n",
        "# Apply PCA by fitting the data with only 60 dimensions\r\n",
        "pca = PCA(n_components=60).fit(X)\r\n",
        "# Transform the data using the PCA fit above\r\n",
        "X = pca.transform(X)\r\n",
        "y = y.values\r\n",
        "\r\n",
        "\r\n",
        "# Shuffle and split the dataset into the number of training and testing points above\r\n",
        "\r\n",
        "sss = model_selection.StratifiedShuffleSplit(n_splits = 10, test_size=0.4, random_state=42)\r\n",
        "\r\n",
        "#sss = cross_validate.StratifiedShuffleSplit(y, 3, test_size=0.4, random_state=42)\r\n",
        "\r\n",
        "#for train_idx, test_idx in sss:\r\n",
        "\r\n",
        "for train_index, test_index in sss.split(X, y):\r\n",
        "  x_train, x_test = X[train_index], X[test_index]\r\n",
        "  y_train, y_test = y[train_index], y[test_index]\r\n",
        "  #X_train, X_test = X[train_index], X[test_index]\r\n",
        "  #y_train, y_test = y[train_index], y[test_index]\r\n",
        "\r\n",
        "# Fit a KNN classifier on the training set\r\n",
        "knn_clf = KNeighborsClassifier(n_neighbors=3, p=2)\r\n",
        "knn_clf.fit(x_train, y_train)\r\n",
        "\r\n",
        "# Initialize the array of predicted labels\r\n",
        "y_pred = np.empty(len(y_test), dtype=np.int)\r\n",
        "\r\n",
        "start = time()\r\n",
        "\r\n",
        "# Find the nearest neighbors indices for each sample in the test set\r\n",
        "kneighbors = knn_clf.kneighbors(x_test, return_distance=False)\r\n",
        "\r\n",
        "# For each set of neighbors indices\r\n",
        "for idx, indices in enumerate(kneighbors):\r\n",
        "  # Find the actual training samples & their labels\r\n",
        "  neighbors = [x_train[i] for i in indices]\r\n",
        "  neighbors_labels = [y_train[i] for i in indices]\r\n",
        "  \r\n",
        "  # if all labels are the same, use it as the prediction\r\n",
        "  if all_same(neighbors_labels):\r\n",
        "    y_pred[idx] = neighbors_labels[0]\r\n",
        "  else:\r\n",
        "    # else fit a SVM classifier using the neighbors, and label the test samples\r\n",
        "    svm_clf = svm.SVC(C=0.5, kernel='rbf', decision_function_shape='ovo', random_state=42)\r\n",
        "    svm_clf.fit(neighbors, neighbors_labels)\r\n",
        "    label = svm_clf.predict(x_test[idx].reshape(1, -1))\r\n",
        "\r\n",
        "    y_pred[idx] = label\r\n",
        "end = time()\r\n",
        "\r\n",
        "print(accuracy_score(y_test, y_pred))\r\n",
        "print(\"Made predictions in {:.4f} seconds.\".format(end - start))"
      ],
      "execution_count": null,
      "outputs": [
        {
          "output_type": "stream",
          "text": [
            "0.9706547619047619\n",
            "Made predictions in 84.3453 seconds.\n"
          ],
          "name": "stdout"
        }
      ]
    },
    {
      "cell_type": "code",
      "metadata": {
        "id": "brMWMbosmvex"
      },
      "source": [
        ""
      ],
      "execution_count": null,
      "outputs": []
    }
  ]
}